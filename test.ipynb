{
 "cells": [
  {
   "cell_type": "code",
   "execution_count": null,
   "metadata": {},
   "outputs": [],
   "source": [
    "import json\n",
    "import os\n",
    "import httpx\n",
    "import boto3\n",
    "\n",
    "# Chemin du fichier JSON contenant les données des images\n",
    "json_file_path = 'a1.json'\n",
    "\n",
    "# Création du client S3\n",
    "s3 = boto3.client('s3')\n",
    "\n",
    "# Ouverture du fichier JSON\n",
    "with open(json_file_path, 'r') as f:\n",
    "    data = json.load(f)\n",
    "\n",
    "# Parcours des données pour télécharger les images et les envoyer sur S3\n",
    "for entry in data['songs']:\n",
    "    title = entry['title']\n",
    "    artist = entry['artist']\n",
    "    year = entry['year']\n",
    "    web_url = entry['web_url']\n",
    "    img_url = entry['img_url']\n",
    "\n",
    "    # Téléchargement de l'image\n",
    "    with httpx.stream('GET', img_url) as r:\n",
    "        r.raise_for_status()\n",
    "        content = r.read()\n",
    "\n",
    "    # Envoi de l'image sur S3\n",
    "    key = f'{title}-{artist}-{year}.jpg'\n",
    "    s3.put_object(Body=content, Bucket=aws_bucket_name, Key=key)\n",
    "\n",
    "    print(f\"L'image {key} a été envoyée sur S3.\")\n"
   ]
  }
 ],
 "metadata": {
  "kernelspec": {
   "display_name": "cloudcomputing-project1-y8gr2-cl",
   "language": "python",
   "name": "python3"
  },
  "language_info": {
   "codemirror_mode": {
    "name": "ipython",
    "version": 3
   },
   "file_extension": ".py",
   "mimetype": "text/x-python",
   "name": "python",
   "nbconvert_exporter": "python",
   "pygments_lexer": "ipython3",
   "version": "3.10.7"
  },
  "orig_nbformat": 4
 },
 "nbformat": 4,
 "nbformat_minor": 2
}
