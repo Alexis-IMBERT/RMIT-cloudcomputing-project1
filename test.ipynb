{
 "cells": [
  {
   "cell_type": "code",
   "execution_count": 26,
   "metadata": {},
   "outputs": [
    {
     "ename": "NameError",
     "evalue": "name 'aws_bucket_name' is not defined",
     "output_type": "error",
     "traceback": [
      "\u001b[0;31m---------------------------------------------------------------------------\u001b[0m",
      "\u001b[0;31mNameError\u001b[0m                                 Traceback (most recent call last)",
      "Cell \u001b[0;32mIn[26], line 31\u001b[0m\n\u001b[1;32m     29\u001b[0m \u001b[39m# Envoi de l'image sur S3\u001b[39;00m\n\u001b[1;32m     30\u001b[0m key \u001b[39m=\u001b[39m \u001b[39mf\u001b[39m\u001b[39m'\u001b[39m\u001b[39m{\u001b[39;00mtitle\u001b[39m}\u001b[39;00m\u001b[39m-\u001b[39m\u001b[39m{\u001b[39;00martist\u001b[39m}\u001b[39;00m\u001b[39m-\u001b[39m\u001b[39m{\u001b[39;00myear\u001b[39m}\u001b[39;00m\u001b[39m.jpg\u001b[39m\u001b[39m'\u001b[39m\n\u001b[0;32m---> 31\u001b[0m s3\u001b[39m.\u001b[39mput_object(Body\u001b[39m=\u001b[39mcontent, Bucket\u001b[39m=\u001b[39maws_bucket_name, Key\u001b[39m=\u001b[39mkey)\n\u001b[1;32m     33\u001b[0m \u001b[39mprint\u001b[39m(\u001b[39mf\u001b[39m\u001b[39m\"\u001b[39m\u001b[39mL\u001b[39m\u001b[39m'\u001b[39m\u001b[39mimage \u001b[39m\u001b[39m{\u001b[39;00mkey\u001b[39m}\u001b[39;00m\u001b[39m a été envoyée sur S3.\u001b[39m\u001b[39m\"\u001b[39m)\n",
      "\u001b[0;31mNameError\u001b[0m: name 'aws_bucket_name' is not defined"
     ]
    }
   ],
   "source": [
    "import json\n",
    "import os\n",
    "import httpx\n",
    "import boto3\n",
    "\n",
    "# path to the JSON file where are the link\n",
    "json_file_path = 'a1.json'\n",
    "\n",
    "# CReation of bucket client S3\n",
    "s3 = boto3.client('s3')\n",
    "\n",
    "# opening of the json file\n",
    "with open(json_file_path, 'r') as f:\n",
    "    data = json.load(f)\n",
    "\n",
    "# Data path to download the images and send them to S3\n",
    "for entry in data['songs']:\n",
    "    title = entry['title']\n",
    "    artist = entry['artist']\n",
    "    year = entry['year']\n",
    "    web_url = entry['web_url']\n",
    "    img_url = entry['img_url']\n",
    "\n",
    "    # Image downloading\n",
    "    with httpx.stream('GET', img_url) as r:\n",
    "        r.raise_for_status()\n",
    "        content = r.read()\n",
    "\n",
    "    # Sending to S3 bucket\n",
    "    key = f'{title}-{artist}-{year}.jpg'\n",
    "    s3.put_object(Body=content, Bucket=aws_bucket_name, Key=key)\n",
    "\n",
    "    print(f\"L'image {key} a été envoyée sur S3.\")\n"
   ]
  }
 ],
 "metadata": {
  "kernelspec": {
   "display_name": "cloudcomputing-project1-y8gr2-cl",
   "language": "python",
   "name": "python3"
  },
  "language_info": {
   "codemirror_mode": {
    "name": "ipython",
    "version": 3
   },
   "file_extension": ".py",
   "mimetype": "text/x-python",
   "name": "python",
   "nbconvert_exporter": "python",
   "pygments_lexer": "ipython3",
   "version": "3.10.7"
  },
  "orig_nbformat": 4
 },
 "nbformat": 4,
 "nbformat_minor": 2
}
